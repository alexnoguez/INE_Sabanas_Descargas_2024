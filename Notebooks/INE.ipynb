{
 "cells": [
  {
   "cell_type": "markdown",
   "id": "8879b45a",
   "metadata": {},
   "source": [
    "### INE"
   ]
  },
  {
   "cell_type": "code",
   "execution_count": 617,
   "id": "042faced",
   "metadata": {},
   "outputs": [
    {
     "name": "stdout",
     "output_type": "stream",
     "text": [
      "\f",
      "\n"
     ]
    }
   ],
   "source": [
    "%reset -sf\n",
    "%clear"
   ]
  },
  {
   "cell_type": "code",
   "execution_count": 618,
   "id": "a38ea375",
   "metadata": {},
   "outputs": [],
   "source": [
    "# Imports\n",
    "import pandas as pd\n",
    "import requests\n",
    "import shutil\n",
    "import time\n",
    "from tqdm import tqdm\n",
    "from selenium import webdriver\n",
    "from selenium.webdriver.common.by import By\n",
    "from selenium.webdriver.common.keys import Keys\n",
    "from selenium.webdriver.support.ui import Select\n",
    "from selenium.webdriver.support.ui import WebDriverWait\n",
    "from selenium.webdriver.support import expected_conditions as EC"
   ]
  },
  {
   "cell_type": "code",
   "execution_count": 619,
   "id": "e34c9e80",
   "metadata": {},
   "outputs": [],
   "source": [
    "# Sections txts\n",
    "txts = ['01_Catalogo de Secciones.txt','02_Catalogo de Secciones.txt','03_Catalogo de Secciones.txt',\n",
    "        '04_Catalogo de Secciones.txt','05_Catalogo de Secciones.txt','06_Catalogo de Secciones.txt',\n",
    "        '07_Catalogo de Secciones.txt','08_Catalogo de Secciones.txt','09_Catalogo de Secciones.txt',\n",
    "        '10_Catalogo de Secciones.txt','11_Catalogo de Secciones.txt','12_Catalogo de Secciones.txt',\n",
    "        '13_Catalogo de Secciones.txt','14_Catalogo de Secciones.txt','15_Catalogo de Secciones.txt',\n",
    "        '16_Catalogo de Secciones.txt','17_Catalogo de Secciones.txt','18_Catalogo de Secciones.txt',\n",
    "        '19_Catalogo de Secciones.txt','20_Catalogo de Secciones.txt','21_Catalogo de Secciones.txt',\n",
    "        '22_Catalogo de Secciones.txt','23_Catalogo de Secciones.txt','24_Catalogo de Secciones.txt',\n",
    "        '25_Catalogo de Secciones.txt','26_Catalogo de Secciones.txt','27_Catalogo de Secciones.txt',\n",
    "        '28_Catalogo de Secciones.txt','29_Catalogo de Secciones.txt','30_Catalogo de Secciones.txt',\n",
    "        '31_Catalogo de Secciones.txt','32_Catalogo de Secciones.txt']"
   ]
  },
  {
   "cell_type": "code",
   "execution_count": null,
   "id": "30e5f7c5",
   "metadata": {},
   "outputs": [],
   "source": []
  },
  {
   "cell_type": "code",
   "execution_count": 620,
   "id": "aae2001d",
   "metadata": {
    "scrolled": true
   },
   "outputs": [
    {
     "name": "stdout",
     "output_type": "stream",
     "text": [
      "01_Catalogo de Secciones.txt\n",
      "02_Catalogo de Secciones.txt\n",
      "03_Catalogo de Secciones.txt\n",
      "04_Catalogo de Secciones.txt\n",
      "05_Catalogo de Secciones.txt\n",
      "06_Catalogo de Secciones.txt\n",
      "07_Catalogo de Secciones.txt\n",
      "08_Catalogo de Secciones.txt\n",
      "09_Catalogo de Secciones.txt\n",
      "10_Catalogo de Secciones.txt\n",
      "11_Catalogo de Secciones.txt\n",
      "12_Catalogo de Secciones.txt\n",
      "13_Catalogo de Secciones.txt\n",
      "14_Catalogo de Secciones.txt\n",
      "15_Catalogo de Secciones.txt\n",
      "16_Catalogo de Secciones.txt\n",
      "17_Catalogo de Secciones.txt\n",
      "18_Catalogo de Secciones.txt\n",
      "19_Catalogo de Secciones.txt\n",
      "20_Catalogo de Secciones.txt\n",
      "21_Catalogo de Secciones.txt\n",
      "22_Catalogo de Secciones.txt\n",
      "23_Catalogo de Secciones.txt\n",
      "24_Catalogo de Secciones.txt\n",
      "25_Catalogo de Secciones.txt\n",
      "26_Catalogo de Secciones.txt\n",
      "27_Catalogo de Secciones.txt\n",
      "28_Catalogo de Secciones.txt\n",
      "29_Catalogo de Secciones.txt\n",
      "30_Catalogo de Secciones.txt\n",
      "31_Catalogo de Secciones.txt\n",
      "32_Catalogo de Secciones.txt\n"
     ]
    }
   ],
   "source": [
    "# Unifying TXTS\n",
    "corpus = {}\n",
    "\n",
    "for i in txts:\n",
    "    print(i)\n",
    "    corpus[i] = pd.read_csv('../Secciones/'+i, sep='|', encoding='latin-1')"
   ]
  },
  {
   "cell_type": "code",
   "execution_count": 621,
   "id": "bc8d0420",
   "metadata": {},
   "outputs": [],
   "source": [
    "# Appending\n",
    "agg = pd.DataFrame()\n",
    "\n",
    "for db in corpus.values():\n",
    "    agg = agg.append(db)"
   ]
  },
  {
   "cell_type": "code",
   "execution_count": 622,
   "id": "1724afa7",
   "metadata": {
    "scrolled": true
   },
   "outputs": [],
   "source": [
    "# Sections as dict {Entidad:section_list}\n",
    "seccions_dict = {}\n",
    "\n",
    "for i in agg['ENTIDAD'].unique():\n",
    "    seccions_dict[str(i)] = list(agg[agg['ENTIDAD']==i]['SECCION'])"
   ]
  },
  {
   "cell_type": "code",
   "execution_count": null,
   "id": "21f34080",
   "metadata": {},
   "outputs": [],
   "source": []
  },
  {
   "cell_type": "code",
   "execution_count": 623,
   "id": "38862e79",
   "metadata": {},
   "outputs": [],
   "source": [
    "# Open page"
   ]
  },
  {
   "cell_type": "code",
   "execution_count": 624,
   "id": "4ad179c1",
   "metadata": {},
   "outputs": [],
   "source": [
    "driver = webdriver.Chrome()"
   ]
  },
  {
   "cell_type": "code",
   "execution_count": 625,
   "id": "97ce92c5",
   "metadata": {},
   "outputs": [],
   "source": [
    "driver.get('https://prep2024.ine.mx/publicacion/nacional/presidencia/nacional/candidatura')"
   ]
  },
  {
   "cell_type": "code",
   "execution_count": 626,
   "id": "638c26d3",
   "metadata": {},
   "outputs": [],
   "source": [
    "driver.maximize_window()"
   ]
  },
  {
   "cell_type": "code",
   "execution_count": null,
   "id": "127e543f",
   "metadata": {},
   "outputs": [],
   "source": []
  },
  {
   "cell_type": "code",
   "execution_count": 627,
   "id": "567791af",
   "metadata": {},
   "outputs": [],
   "source": [
    "# Selectors "
   ]
  },
  {
   "cell_type": "code",
   "execution_count": 628,
   "id": "6cf54ff3",
   "metadata": {},
   "outputs": [],
   "source": [
    "def get_ent_sel():\n",
    "    return Select(driver.find_element(By.ID, 'select-entidad_resultados'))\n",
    "def get_sec_sel():\n",
    "    return driver.find_element(By.ID, 'valueSeccion')\n",
    "    \n",
    "ent_selector = get_ent_sel()\n",
    "sec_selector = get_sec_sel()"
   ]
  },
  {
   "cell_type": "code",
   "execution_count": null,
   "id": "d63d785d",
   "metadata": {},
   "outputs": [],
   "source": []
  },
  {
   "cell_type": "code",
   "execution_count": 629,
   "id": "d0b09dac",
   "metadata": {},
   "outputs": [],
   "source": [
    "cols = ['Entidad','Seccion', 'Casilla','PAN', 'PRI', 'PRD', 'PVEM', 'PT', 'MC', 'MORENA','PAN/PRI/PRD','PAN/PRI','PAN/PRD','PRI/PRD',\n",
    "        'PVEM/PT/MORENA','PVEM/PT','PVEM/MORENA','PT/MORENA','Candidaturas no registradas','Votos nulos','Total']\n",
    "\n",
    "tables_agg_data = pd.DataFrame(columns=cols)"
   ]
  },
  {
   "cell_type": "code",
   "execution_count": 630,
   "id": "b53cc33e",
   "metadata": {},
   "outputs": [],
   "source": [
    "# Iterator\n",
    "remove = ['Casilla', 'Acta digitalizada', 'Candidaturas no registradas', 'Votos nulos', 'Total', 'Observaciones en Acta',]"
   ]
  },
  {
   "cell_type": "code",
   "execution_count": null,
   "id": "70e1eb3a",
   "metadata": {},
   "outputs": [],
   "source": []
  },
  {
   "cell_type": "code",
   "execution_count": null,
   "id": "92e3ac1b",
   "metadata": {
    "scrolled": true
   },
   "outputs": [],
   "source": [
    "tables_agg_data = tables_agg_data.drop_duplicates(subset=['Entidad','Seccion','Casilla'])\n",
    "\n",
    "try:\n",
    "    driver.switch_to.window(driver.window_handles[1])\n",
    "    driver.close()\n",
    "    driver.switch_to.window(driver.window_handles[0])\n",
    "except:\n",
    "    pass\n",
    "\n",
    "driver.refresh()\n",
    "\n",
    "ent_selector = get_ent_sel()\n",
    "sec_selector = get_sec_sel()\n",
    "\n",
    "sec_selector.send_keys(Keys.CONTROL + Keys.SHIFT + 'r')\n",
    "\n",
    "try:\n",
    "    index_ck = list(seccions_dict.keys()).index(current_k)\n",
    "    for i in list(range(index_ck)):\n",
    "        seccions_dict.pop(0)\n",
    "    seccions_dict[current_k] = seccions_dict[current_k][current_s:]\n",
    "except:\n",
    "    pass\n",
    "\n",
    "for k,v in seccions_dict.items():\n",
    "    print(k)\n",
    "    ent_selector.select_by_value(k) # Enter edo\n",
    "    \n",
    "    # For each section\n",
    "    for s in tqdm(range(len(v))):\n",
    "        \n",
    "        # Reload\n",
    "        #driver.refresh()\n",
    "        #sec_selector = get_sec_sel()\n",
    "        #sec_selector.send_keys(Keys.CONTROL + Keys.SHIFT + 'r')\n",
    "        \n",
    "        #ent_selector = get_ent_sel()\n",
    "        #sec_selector = get_sec_sel()\n",
    "        \n",
    "        # Extract data\n",
    "        current_k = k\n",
    "        current_s = s\n",
    "        print(seccions_dict[k][s])\n",
    "        sec_selector.send_keys(str(seccions_dict[k][s]), Keys.ENTER) # Enter section\n",
    "        sec_selector.send_keys(Keys.CONTROL + 'a') # Select section\n",
    "        sec_selector.send_keys(Keys.DELETE) # Clear selection\n",
    "        table_data = driver.find_element(By.CLASS_NAME, 'table').text # Table data\n",
    "        table_data = table_data.split('\\n') # Data treat\n",
    "        \n",
    "        for r in remove: # Remove not useful data\n",
    "            table_data = [i for i in table_data if i != r]\n",
    "        table_data = [i.split(' ') for i in table_data] # Convert to list\n",
    "                \n",
    "        for r in table_data:\n",
    "            if 'Contigua' in r: # If contigua remove contigua number\n",
    "                r.pop(2)\n",
    "        for r in table_data:\n",
    "            if 'Extraordinaria' in r: # If extra remove contigua number\n",
    "                r.pop(2)\n",
    "        for r in table_data:\n",
    "            if 'Especial' in r: # If esp remove contigua number\n",
    "                r.pop(2)\n",
    "        for r in table_data:\n",
    "            if 'Sin' in r: # If Sin remove\n",
    "                with_sindex = [index for index, item in enumerate(r) if item == 'Sin']\n",
    "                for i,j in zip(with_sindex,list(range(len(with_sindex)))):\n",
    "                    r.pop(i-j)\n",
    "                    \n",
    "                with_dato_index = [index for index, item in enumerate(r) if item == 'dato']            \n",
    "                for i in with_dato_index:\n",
    "                    r[i] = 'sin dato'\n",
    "        for r in table_data: # If last sin dato remove\n",
    "            if r[-1]=='sin dato':\n",
    "                r.pop()\n",
    "        for r in table_data:\n",
    "            if r[-1]=='vacíos':\n",
    "                r.pop()\n",
    "                r.pop()\n",
    "                r.pop()\n",
    "                r.pop()\n",
    "        for r in table_data:\n",
    "            if 'Ext' in r: # If extra remove\n",
    "                r.pop(2)\n",
    "                r.pop(3)\n",
    "                r.pop(2)\n",
    "                r[1] = 'Extraordinaria'\n",
    "        for r in table_data:\n",
    "            if 'Ilegible' in r: # If ilegible remove\n",
    "                del r[2:]\n",
    "                for _ in range(18):\n",
    "                    r.append('Ilegible')\n",
    "        for r in table_data:  \n",
    "            if \"-\" in r: # Remove non counted yet\n",
    "                table_data.remove(r)\n",
    "                \n",
    "        table_data = pd.DataFrame(table_data, columns=cols[1:])\n",
    "        table_data.insert(0,'Entidad',k)\n",
    "        \n",
    "        if len([i for i in list(table_data['Casilla']) if i==\"Contigua\"]) > 0:\n",
    "            my_list = list(table_data['Casilla'])\n",
    "            contigua_counter = 1\n",
    "            for index, item in enumerate(my_list):\n",
    "                if item == \"Contigua\":\n",
    "                    my_list[index] += f\"_{contigua_counter}\"\n",
    "                    contigua_counter += 1        \n",
    "            table_data['Casilla'] = my_list\n",
    "            del my_list\n",
    "            \n",
    "        if len([i for i in list(table_data['Casilla']) if i==\"Extraordinaria\"]) > 0:\n",
    "            my_list = list(table_data['Casilla'])\n",
    "            extra_counter = 1\n",
    "            for index, item in enumerate(my_list):\n",
    "                if item == \"Extraordinaria\":\n",
    "                    my_list[index] += f\"_{extra_counter}\"\n",
    "                    extra_counter += 1        \n",
    "            table_data['Casilla'] = my_list\n",
    "            del my_list\n",
    "            \n",
    "        if len([i for i in list(table_data['Casilla']) if i==\"Especial\"]) > 0:\n",
    "            my_list = list(table_data['Casilla'])\n",
    "            extra_counter = 1\n",
    "            for index, item in enumerate(my_list):\n",
    "                if item == \"Especial\":\n",
    "                    my_list[index] += f\"_{extra_counter}\"\n",
    "                    extra_counter += 1        \n",
    "            table_data['Casilla'] = my_list\n",
    "            del my_list\n",
    "        \n",
    "        tables_agg_data = tables_agg_data.append(table_data)\n",
    "        \n",
    "        # Extract sabana        \n",
    "        jpgs = driver.find_elements(By.XPATH,'//a[contains(@href, \".jpg\")]')\n",
    "\n",
    "        for i in range(len(jpgs)):\n",
    "            try:\n",
    "                WebDriverWait(driver, 10).until(EC.element_to_be_clickable((jpgs[i]))).click()\n",
    "            except:\n",
    "                time.sleep(1)\n",
    "                WebDriverWait(driver, 10).until(EC.element_to_be_clickable((jpgs[i]))).click()\n",
    "                print(\"ElementClickInterceptedException: Retrying\")\n",
    "            #finally:\n",
    "            #    WebDriverWait(driver, 10).until(EC.element_to_be_clickable((jpgs[i]))).click()\n",
    "            #    print(\"ElementClickInterceptedException: Retrying 2\")\n",
    "                \n",
    "            #driver.execute_script(\"arguments[0].scrollIntoView();\", i)\n",
    "            #time.sleep(2)\n",
    "            #jpgs[i].click()\n",
    "            driver.switch_to.window(driver.window_handles[1])\n",
    "            file_url = driver.current_url\n",
    "\n",
    "            response = requests.get(file_url, stream=True)\n",
    "            if response.status_code == 200:\n",
    "                with open('../Sabanas/'+str(k)+'_'+str(v[s])+'_'+str(i)+'.jpg', 'wb') as f:\n",
    "                    response.raw.decode_content = True\n",
    "                    shutil.copyfileobj(response.raw, f)\n",
    "            driver.close()\n",
    "            driver.switch_to.window(driver.window_handles[0])\n",
    "            \n",
    "        #v.pop(0)\n",
    "        #print(f'Remaining in Entity: {len(v)}')"
   ]
  },
  {
   "cell_type": "code",
   "execution_count": 475,
   "id": "c658d471",
   "metadata": {},
   "outputs": [],
   "source": []
  },
  {
   "cell_type": "code",
   "execution_count": null,
   "id": "4d5a4131",
   "metadata": {},
   "outputs": [],
   "source": []
  },
  {
   "cell_type": "code",
   "execution_count": null,
   "id": "6eb2fd8b",
   "metadata": {},
   "outputs": [],
   "source": []
  },
  {
   "cell_type": "code",
   "execution_count": null,
   "id": "1440ffda",
   "metadata": {},
   "outputs": [],
   "source": []
  },
  {
   "cell_type": "code",
   "execution_count": null,
   "id": "7dbb8221",
   "metadata": {},
   "outputs": [],
   "source": []
  },
  {
   "cell_type": "code",
   "execution_count": 245,
   "id": "476c4aab",
   "metadata": {
    "scrolled": true
   },
   "outputs": [],
   "source": []
  },
  {
   "cell_type": "code",
   "execution_count": null,
   "id": "4f08b0bc",
   "metadata": {},
   "outputs": [],
   "source": []
  },
  {
   "cell_type": "code",
   "execution_count": null,
   "id": "4318c5ba",
   "metadata": {},
   "outputs": [],
   "source": []
  }
 ],
 "metadata": {
  "kernelspec": {
   "display_name": "Python 3 (ipykernel)",
   "language": "python",
   "name": "python3"
  },
  "language_info": {
   "codemirror_mode": {
    "name": "ipython",
    "version": 3
   },
   "file_extension": ".py",
   "mimetype": "text/x-python",
   "name": "python",
   "nbconvert_exporter": "python",
   "pygments_lexer": "ipython3",
   "version": "3.7.15"
  }
 },
 "nbformat": 4,
 "nbformat_minor": 5
}
